{
  "cells": [
    {
      "cell_type": "raw",
      "metadata": {},
      "source": [
        "---\n",
        "title: \"Dashing through the snow ❄️\"\n",
        "format: \n",
        "  dashboard:\n",
        "    nav-buttons: [github]\n",
        "    github: https://github.com/mine-cetinkaya-rundel/dashing-through-snow\n",
        "logo: images/logo.png\n",
        "theme: \n",
        "  light: [sandstone, themes/dashboard.scss]\n",
        "  dark: [sandstone, themes/dashboard-dark.scss]\n",
        "---"
      ]
    },
    {
      "cell_type": "code",
      "metadata": {},
      "source": [
        "#| label: load-packages\n",
        "\n",
        "import pandas as pd\n",
        "from datetime import datetime\n",
        "from ipyleaflet import Map, Marker, Popup, basemaps, basemap_to_tiles\n",
        "import itables as itables\n",
        "from ipywidgets import HTML\n",
        "import plotly.express as px\n",
        "import plotly.graph_objects as go"
      ],
      "execution_count": null,
      "outputs": []
    },
    {
      "cell_type": "code",
      "metadata": {
        "tags": [
          "parameters"
        ]
      },
      "source": [
        "today_string = \"2023-12-08\""
      ],
      "execution_count": null,
      "outputs": []
    },
    {
      "cell_type": "code",
      "metadata": {
        "message": false
      },
      "source": [
        "#| label: load-data\n",
        "\n",
        "meribel = pd.read_csv(\"data/Meribel.csv\")\n",
        "meribel['datetime'] = pd.to_datetime(meribel['datetime'])\n",
        "\n",
        "stations = pd.read_csv(\"data/stations.csv\")"
      ],
      "execution_count": null,
      "outputs": []
    },
    {
      "cell_type": "code",
      "metadata": {},
      "source": [
        "#| label: set-inputs\n",
        "\n",
        "today_date = pd.to_datetime(today_string)"
      ],
      "execution_count": null,
      "outputs": []
    },
    {
      "cell_type": "markdown",
      "metadata": {},
      "source": [
        "#  {.sidebar}\n",
        "\n",
        "This dashboard displays weather data for:\n",
        "\n",
        "**Méribel, [Les Alluessa](https://en.wikipedia.org/wiki/Les_Allues), Auvergne-Rhône-Alpes, France**\n",
        "\n",
        "The data were gathered from the [Virtual Crossing](https://www.visualcrossing.com/).\n",
        "\n",
        "<br>\n",
        "\n",
        "::: {.callout-note collapse=\"true\"}\n",
        "## Measurement units\n",
        "\n",
        "The variables and their measurement units are given below.\n",
        "\n",
        "|                                      |                      |\n",
        "|:-------------------------------------|:---------------------|\n",
        "| **Variable**                         | **Unit** |\n",
        "| Temperature, Heat Index & Wind Chill | Degrees Fahrenheit   |\n",
        "| Precipitation                        | Inches               |\n",
        "| Snow                                 | Inches               |\n",
        "| Wind & Wind Gust                     | Miles Per Hour       |\n",
        "| Visibility                           | Miles                |\n",
        "| Pressure                             | Millibars            |\n",
        "| Solar Radiation                      | W/m^2^               |\n",
        "| Solar Energy                         | MJ/m^2^              |\n",
        "\n",
        "Source: [https://www.visualcrossing.com/resources/documentation/weather-api/unit-groups-and-measurement-units](https://www.visualcrossing.com/resources/documentation/weather-api/unit-groups-and-measurement-units/).\n",
        ":::\n",
        "\n",
        "# All"
      ]
    },
    {
      "cell_type": "code",
      "metadata": {},
      "source": [
        "n_snow = meribel[meribel['snow'] > 0].shape[0]\n",
        "\n",
        "n_below_freezing = meribel[meribel['temp'] < 32].shape[0]\n",
        "\n",
        "def below_freezing_color(n):\n",
        "    if n > 5:\n",
        "        return \"danger\"\n",
        "    elif 3 < n <= 5:\n",
        "        return \"warning\"\n",
        "    else:\n",
        "        return \"light\"\n",
        "\n",
        "n_below_freezing_color = below_freezing_color(n_below_freezing)"
      ],
      "execution_count": null,
      "outputs": []
    },
    {
      "cell_type": "markdown",
      "metadata": {},
      "source": [
        "## Row {height=\"20%\"}"
      ]
    },
    {
      "cell_type": "code",
      "metadata": {
        "content": "valuebox",
        "title": "Today"
      },
      "source": [
        "dict(\n",
        "  color = \"secondary\",\n",
        "  value = today_string\n",
        ")"
      ],
      "execution_count": null,
      "outputs": []
    },
    {
      "cell_type": "code",
      "metadata": {
        "content": "valuebox",
        "title": "Snowy days"
      },
      "source": [
        "dict(\n",
        "  icon = \"snow\",\n",
        "  color = \"primary\",\n",
        "  value = n_snow\n",
        ")"
      ],
      "execution_count": null,
      "outputs": []
    },
    {
      "cell_type": "code",
      "metadata": {
        "content": "valuebox",
        "title": "Number of days below freezing"
      },
      "source": [
        "dict(\n",
        "  icon = \"thermometer-snow\",\n",
        "  color = n_below_freezing_color,\n",
        "  value = n_below_freezing\n",
        ")"
      ],
      "execution_count": null,
      "outputs": []
    },
    {
      "cell_type": "markdown",
      "metadata": {},
      "source": [
        "## Row {height=\"40%\"}\n",
        "\n",
        "### Column {width=\"40%\"}"
      ]
    },
    {
      "cell_type": "code",
      "metadata": {
        "title": "Snow fall (in)"
      },
      "source": [
        "# Create figure\n",
        "fig = go.Figure()\n",
        "\n",
        "# Add lines for temp, tempmin, tempmax\n",
        "fig = fig.add_trace(go.Scatter(x=meribel['datetime'], y=meribel['snow'], mode='lines', name='temp', line=dict(color='black')))\n",
        "\n",
        "# Add vertical dashed line for today's date\n",
        "fig = fig.add_shape(\n",
        "    go.layout.Shape(\n",
        "        type=\"line\",\n",
        "        x0=today_date,\n",
        "        x1=today_date,\n",
        "        y0=min(meribel['snow']),\n",
        "        y1=max(meribel['snow']),\n",
        "        line=dict(\n",
        "            color=\"#ae8b2d\",\n",
        "            width=1.5,\n",
        "            dash=\"dash\"\n",
        "        )\n",
        "    )\n",
        ")\n",
        "\n",
        "# Set layout including axis labels and y-axis range\n",
        "fig = fig.update_layout(\n",
        "    xaxis_title=\"Date\",\n",
        "    yaxis_title=\"Snow fall\",\n",
        ")\n",
        "\n",
        "# Show the plot\n",
        "fig.show()"
      ],
      "execution_count": null,
      "outputs": []
    },
    {
      "cell_type": "markdown",
      "metadata": {},
      "source": [
        "### Column {width=\"40%\"}"
      ]
    },
    {
      "cell_type": "code",
      "metadata": {
        "title": "Snow depth (in)"
      },
      "source": [
        "# Create figure\n",
        "fig = go.Figure()\n",
        "\n",
        "# Add lines for temp, tempmin, tempmax\n",
        "fig = fig.add_trace(go.Scatter(x=meribel['datetime'], y=meribel['snowdepth'], mode='lines', name='temp', line=dict(color='black')))\n",
        "\n",
        "# Add vertical dashed line for today's date\n",
        "fig = fig.add_shape(\n",
        "    go.layout.Shape(\n",
        "        type=\"line\",\n",
        "        x0=today_date,\n",
        "        x1=today_date,\n",
        "        y0=min(meribel['snowdepth']),\n",
        "        y1=max(meribel['snowdepth']),\n",
        "        line=dict(\n",
        "            color=\"#ae8b2d\",\n",
        "            width=1.5,\n",
        "            dash=\"dash\"\n",
        "        )\n",
        "    )\n",
        ")\n",
        "\n",
        "# Set layout including axis labels and y-axis range\n",
        "fig = fig.update_layout(\n",
        "    xaxis_title=\"Date\",\n",
        "    yaxis_title=\"Snow fall\",\n",
        ")\n",
        "\n",
        "# Show the plot\n",
        "fig.show()"
      ],
      "execution_count": null,
      "outputs": []
    },
    {
      "cell_type": "markdown",
      "metadata": {},
      "source": [
        "## Row {height=\"40%\"}\n",
        "\n",
        "### Column {width=\"40%\"}"
      ]
    },
    {
      "cell_type": "code",
      "metadata": {
        "title": "Temperature (F)"
      },
      "source": [
        "# Create figure\n",
        "fig = go.Figure()\n",
        "\n",
        "# Add lines for temp, tempmin, tempmax\n",
        "fig = fig.add_trace(go.Scatter(x=meribel['datetime'], y=meribel['temp'], mode='lines', name='temp', line=dict(color='black')))\n",
        "fig = fig.add_trace(go.Scatter(x=meribel['datetime'], y=meribel['tempmin'], mode='lines', name='tempmin', line=dict(color='lightgray')))\n",
        "fig = fig.add_trace(go.Scatter(x=meribel['datetime'], y=meribel['tempmax'], mode='lines', name='tempmax', line=dict(color='darkgray')))\n",
        "\n",
        "# Add vertical dashed line for today's date\n",
        "fig = fig.add_shape(\n",
        "    go.layout.Shape(\n",
        "        type=\"line\",\n",
        "        x0=today_date,\n",
        "        x1=today_date,\n",
        "        y0=10,\n",
        "        y1=50,\n",
        "        line=dict(\n",
        "            color=\"#ae8b2d\",\n",
        "            width=1.5,\n",
        "            dash=\"dash\"\n",
        "        )\n",
        "    )\n",
        ")\n",
        "\n",
        "# Set layout including axis labels and y-axis range\n",
        "fig = fig.update_layout(\n",
        "    xaxis_title=\"Date\",\n",
        "    yaxis_title=\"Temperature\",\n",
        "    yaxis=dict(range=[10, 50]),\n",
        "    showlegend=False\n",
        ")\n",
        "\n",
        "# Show the plot\n",
        "fig.show()"
      ],
      "execution_count": null,
      "outputs": []
    },
    {
      "cell_type": "markdown",
      "metadata": {},
      "source": [
        "### Column {width=\"40%\"}"
      ]
    },
    {
      "cell_type": "code",
      "metadata": {
        "title": "Feels like (F)"
      },
      "source": [
        "# Create figure\n",
        "fig = go.Figure()\n",
        "\n",
        "# Add lines for feelslike, feelslikemin, feelslikemax\n",
        "fig = fig.add_trace(go.Scatter(x=meribel['datetime'], y=meribel['feelslike'], mode='lines', name='feelslike', line=dict(color='black')))\n",
        "fig = fig.add_trace(go.Scatter(x=meribel['datetime'], y=meribel['feelslikemin'], mode='lines', name='feelslikemin', line=dict(color='lightgray')))\n",
        "fig = fig.add_trace(go.Scatter(x=meribel['datetime'], y=meribel['feelslikemax'], mode='lines', name='feelslikemax', line=dict(color='darkgray')))\n",
        "\n",
        "# Add vertical dashed line for today's date\n",
        "fig = fig.add_shape(\n",
        "    go.layout.Shape(\n",
        "        type=\"line\",\n",
        "        x0=today_date,\n",
        "        x1=today_date,\n",
        "        y0=10,\n",
        "        y1=50,\n",
        "        line=dict(\n",
        "            color=\"#ae8b2d\",\n",
        "            width=1.5,\n",
        "            dash=\"dash\"\n",
        "        )\n",
        "    )\n",
        ")\n",
        "\n",
        "# Set layout including axis labels and y-axis range\n",
        "fig = fig.update_layout(\n",
        "    xaxis_title=\"Date\",\n",
        "    yaxis_title=\"Feels like\",\n",
        "    yaxis=dict(range=[10, 50]),\n",
        "    showlegend=False\n",
        ")\n",
        "\n",
        "# Show the plot\n",
        "fig = fig.show()"
      ],
      "execution_count": null,
      "outputs": []
    },
    {
      "cell_type": "markdown",
      "metadata": {},
      "source": [
        "# Forecast"
      ]
    },
    {
      "cell_type": "code",
      "metadata": {},
      "source": [
        "meribel_forecast = meribel[meribel['datetime'] > today_date]\n",
        "\n",
        "n_snow_forecast = meribel_forecast[meribel_forecast['snow'] > 0].shape[0]\n",
        "\n",
        "n_below_freezing_forecast = meribel_forecast[meribel_forecast['temp'] < 32].shape[0]\n",
        "\n",
        "n_below_freezing_forecast_color = below_freezing_color(n_below_freezing_forecast)"
      ],
      "execution_count": null,
      "outputs": []
    },
    {
      "cell_type": "markdown",
      "metadata": {},
      "source": [
        "## Row {height=\"20%\"}"
      ]
    },
    {
      "cell_type": "code",
      "metadata": {
        "content": "valuebox",
        "title": "Today"
      },
      "source": [
        "dict(\n",
        "  color = \"secondary\",\n",
        "  value = today_string\n",
        ")"
      ],
      "execution_count": null,
      "outputs": []
    },
    {
      "cell_type": "code",
      "metadata": {
        "content": "valuebox",
        "title": "Snowy days"
      },
      "source": [
        "dict(\n",
        "  icon = \"snow\",\n",
        "  color = \"primary\",\n",
        "  value = n_snow_forecast\n",
        ")"
      ],
      "execution_count": null,
      "outputs": []
    },
    {
      "cell_type": "code",
      "metadata": {
        "content": "valuebox",
        "title": "Number of days below freezing"
      },
      "source": [
        "dict(\n",
        "  icon = \"thermometer-snow\",\n",
        "  color = n_below_freezing_forecast_color,\n",
        "  value = n_below_freezing_forecast\n",
        ")"
      ],
      "execution_count": null,
      "outputs": []
    },
    {
      "cell_type": "markdown",
      "metadata": {},
      "source": [
        "## Row {height=\"40%\"}\n",
        "\n",
        "### Column {width=\"40%\"}"
      ]
    },
    {
      "cell_type": "code",
      "metadata": {
        "title": "Snow fall (in)"
      },
      "source": [
        "# Create figure\n",
        "fig = go.Figure()\n",
        "\n",
        "# Add lines for temp, tempmin, tempmax\n",
        "fig = fig.add_trace(go.Scatter(x=meribel_forecast['datetime'], y=meribel_forecast['snow'], mode='lines', name='temp', line=dict(color='black')))\n",
        "\n",
        "# Set layout including axis labels and y-axis range\n",
        "fig = fig.update_layout(\n",
        "    xaxis_title=\"Date\",\n",
        "    yaxis_title=\"Snow fall\",\n",
        ")\n",
        "\n",
        "# Show the plot\n",
        "fig.show()"
      ],
      "execution_count": null,
      "outputs": []
    },
    {
      "cell_type": "markdown",
      "metadata": {},
      "source": [
        "### Column {width=\"40%\"}"
      ]
    },
    {
      "cell_type": "code",
      "metadata": {
        "title": "Snow depth (in)"
      },
      "source": [
        "# Create figure\n",
        "fig = go.Figure()\n",
        "\n",
        "# Add lines for temp, tempmin, tempmax\n",
        "fig = fig.add_trace(go.Scatter(x=meribel_forecast['datetime'], y=meribel_forecast['snowdepth'], mode='lines', name='temp', line=dict(color='black')))\n",
        "\n",
        "# Set layout including axis labels and y-axis range\n",
        "fig = fig.update_layout(\n",
        "    xaxis_title=\"Date\",\n",
        "    yaxis_title=\"Snow fall\",\n",
        ")\n",
        "\n",
        "# Show the plot\n",
        "fig.show()"
      ],
      "execution_count": null,
      "outputs": []
    },
    {
      "cell_type": "markdown",
      "metadata": {},
      "source": [
        "## Row {height=\"40%\"}\n",
        "\n",
        "### Column {width=\"40%\"}"
      ]
    },
    {
      "cell_type": "code",
      "metadata": {
        "title": "Temperature (F)"
      },
      "source": [
        "# Create figure\n",
        "fig = go.Figure()\n",
        "\n",
        "# Add lines for temp, tempmin, tempmax\n",
        "fig = fig.add_trace(go.Scatter(x=meribel_forecast['datetime'], y=meribel_forecast['temp'], mode='lines', name='temp', line=dict(color='black')))\n",
        "fig = fig.add_trace(go.Scatter(x=meribel_forecast['datetime'], y=meribel_forecast['tempmin'], mode='lines', name='tempmin', line=dict(color='lightgray')))\n",
        "fig = fig.add_trace(go.Scatter(x=meribel_forecast['datetime'], y=meribel_forecast['tempmax'], mode='lines', name='tempmax', line=dict(color='darkgray')))\n",
        "\n",
        "# Set layout including axis labels and y-axis range\n",
        "fig = fig.update_layout(\n",
        "    xaxis_title=\"Date\",\n",
        "    yaxis_title=\"Temperature\",\n",
        "    yaxis=dict(range=[10, 50]),\n",
        "    showlegend=False\n",
        ")\n",
        "\n",
        "# Show the plot\n",
        "fig.show()"
      ],
      "execution_count": null,
      "outputs": []
    },
    {
      "cell_type": "markdown",
      "metadata": {},
      "source": [
        "### Column {width=\"40%\"}"
      ]
    },
    {
      "cell_type": "code",
      "metadata": {
        "title": "Feels like (F)"
      },
      "source": [
        "# Create figure\n",
        "fig = go.Figure()\n",
        "\n",
        "# Add lines for feelslike, feelslikemin, feelslikemax\n",
        "fig = fig.add_trace(go.Scatter(x=meribel_forecast['datetime'], y=meribel_forecast['feelslike'], mode='lines', name='feelslike', line=dict(color='black')))\n",
        "fig = fig.add_trace(go.Scatter(x=meribel_forecast['datetime'], y=meribel_forecast['feelslikemin'], mode='lines', name='feelslikemin', line=dict(color='lightgray')))\n",
        "fig = fig.add_trace(go.Scatter(x=meribel_forecast['datetime'], y=meribel_forecast['feelslikemax'], mode='lines', name='feelslikemax', line=dict(color='darkgray')))\n",
        "\n",
        "# Set layout including axis labels and y-axis range\n",
        "fig = fig.update_layout(\n",
        "    xaxis_title=\"Date\",\n",
        "    yaxis_title=\"Feels like\",\n",
        "    yaxis=dict(range=[10, 50]),\n",
        "    showlegend=False\n",
        ")\n",
        "\n",
        "# Show the plot\n",
        "fig = fig.show()"
      ],
      "execution_count": null,
      "outputs": []
    },
    {
      "cell_type": "markdown",
      "metadata": {},
      "source": [
        "# Historical"
      ]
    },
    {
      "cell_type": "code",
      "metadata": {},
      "source": [
        "meribel_historical = meribel[meribel['datetime'] <= today_date]\n",
        "\n",
        "n_snow_historical = meribel_historical[meribel_historical['snow'] > 0].shape[0]\n",
        "\n",
        "n_below_freezing_historical = meribel_historical[meribel_historical['temp'] < 32].shape[0]\n",
        "\n",
        "n_below_freezing_historical_color = below_freezing_color(n_below_freezing_historical)"
      ],
      "execution_count": null,
      "outputs": []
    },
    {
      "cell_type": "markdown",
      "metadata": {},
      "source": [
        "## Row {height=\"20%\"}"
      ]
    },
    {
      "cell_type": "code",
      "metadata": {
        "content": "valuebox",
        "title": "Today"
      },
      "source": [
        "dict(\n",
        "  color = \"secondary\",\n",
        "  value = today_string\n",
        ")"
      ],
      "execution_count": null,
      "outputs": []
    },
    {
      "cell_type": "code",
      "metadata": {
        "content": "valuebox",
        "title": "Snowy days"
      },
      "source": [
        "dict(\n",
        "  icon = \"snow\",\n",
        "  color = \"primary\",\n",
        "  value = n_snow_forecast\n",
        ")"
      ],
      "execution_count": null,
      "outputs": []
    },
    {
      "cell_type": "code",
      "metadata": {
        "content": "valuebox",
        "title": "Number of days below freezing"
      },
      "source": [
        "dict(\n",
        "  icon = \"thermometer-snow\",\n",
        "  color = n_below_freezing_historical_color,\n",
        "  value = n_below_freezing_historical\n",
        ")"
      ],
      "execution_count": null,
      "outputs": []
    },
    {
      "cell_type": "markdown",
      "metadata": {},
      "source": [
        "## Row {height=\"40%\"}\n",
        "\n",
        "### Column {width=\"40%\"}"
      ]
    },
    {
      "cell_type": "code",
      "metadata": {
        "title": "Snow fall (in)"
      },
      "source": [
        "# Create figure\n",
        "fig = go.Figure()\n",
        "\n",
        "# Add lines for temp, tempmin, tempmax\n",
        "fig = fig.add_trace(go.Scatter(x=meribel_historical['datetime'], y=meribel_historical['snow'], mode='lines', name='temp', line=dict(color='black')))\n",
        "\n",
        "# Set layout including axis labels and y-axis range\n",
        "fig = fig.update_layout(\n",
        "    xaxis_title=\"Date\",\n",
        "    yaxis_title=\"Snow fall\",\n",
        ")\n",
        "\n",
        "# Show the plot\n",
        "fig.show()"
      ],
      "execution_count": null,
      "outputs": []
    },
    {
      "cell_type": "markdown",
      "metadata": {},
      "source": [
        "### Column {width=\"40%\"}"
      ]
    },
    {
      "cell_type": "code",
      "metadata": {
        "title": "Snow depth (in)"
      },
      "source": [
        "# Create figure\n",
        "fig = go.Figure()\n",
        "\n",
        "# Add lines for temp, tempmin, tempmax\n",
        "fig = fig.add_trace(go.Scatter(x=meribel_historical['datetime'], y=meribel_historical['snowdepth'], mode='lines', name='temp', line=dict(color='black')))\n",
        "\n",
        "# Set layout including axis labels and y-axis range\n",
        "fig = fig.update_layout(\n",
        "    xaxis_title=\"Date\",\n",
        "    yaxis_title=\"Snow fall\",\n",
        ")\n",
        "\n",
        "# Show the plot\n",
        "fig.show()"
      ],
      "execution_count": null,
      "outputs": []
    },
    {
      "cell_type": "markdown",
      "metadata": {},
      "source": [
        "## Row {height=\"40%\"}\n",
        "\n",
        "### Column {width=\"40%\"}"
      ]
    },
    {
      "cell_type": "code",
      "metadata": {
        "title": "Temperature (F)"
      },
      "source": [
        "# Create figure\n",
        "fig = go.Figure()\n",
        "\n",
        "# Add lines for temp, tempmin, tempmax\n",
        "fig = fig.add_trace(go.Scatter(x=meribel_historical['datetime'], y=meribel_historical['temp'], mode='lines', name='temp', line=dict(color='black')))\n",
        "fig = fig.add_trace(go.Scatter(x=meribel_historical['datetime'], y=meribel_historical['tempmin'], mode='lines', name='tempmin', line=dict(color='lightgray')))\n",
        "fig = fig.add_trace(go.Scatter(x=meribel_historical['datetime'], y=meribel_historical['tempmax'], mode='lines', name='tempmax', line=dict(color='darkgray')))\n",
        "\n",
        "# Set layout including axis labels and y-axis range\n",
        "fig = fig.update_layout(\n",
        "    xaxis_title=\"Date\",\n",
        "    yaxis_title=\"Temperature\",\n",
        "    yaxis=dict(range=[10, 50]),\n",
        "    showlegend=False\n",
        ")\n",
        "\n",
        "# Show the plot\n",
        "fig.show()"
      ],
      "execution_count": null,
      "outputs": []
    },
    {
      "cell_type": "markdown",
      "metadata": {},
      "source": [
        "### Column {width=\"40%\"}"
      ]
    },
    {
      "cell_type": "code",
      "metadata": {
        "title": "Feels like (F)"
      },
      "source": [
        "# Create figure\n",
        "fig = go.Figure()\n",
        "\n",
        "# Add lines for feelslike, feelslikemin, feelslikemax\n",
        "fig = fig.add_trace(go.Scatter(x=meribel_historical['datetime'], y=meribel_historical['feelslike'], mode='lines', name='feelslike', line=dict(color='black')))\n",
        "fig = fig.add_trace(go.Scatter(x=meribel_historical['datetime'], y=meribel_historical['feelslikemin'], mode='lines', name='feelslikemin', line=dict(color='lightgray')))\n",
        "fig = fig.add_trace(go.Scatter(x=meribel_historical['datetime'], y=meribel_historical['feelslikemax'], mode='lines', name='feelslikemax', line=dict(color='darkgray')))\n",
        "\n",
        "# Set layout including axis labels and y-axis range\n",
        "fig = fig.update_layout(\n",
        "    xaxis_title=\"Date\",\n",
        "    yaxis_title=\"Feels like\",\n",
        "    yaxis=dict(range=[10, 50]),\n",
        "    showlegend=False\n",
        ")\n",
        "\n",
        "# Show the plot\n",
        "fig = fig.show()"
      ],
      "execution_count": null,
      "outputs": []
    },
    {
      "cell_type": "markdown",
      "metadata": {},
      "source": [
        "# Data\n",
        "\n",
        "## Row {height=\"40%\"}"
      ]
    },
    {
      "cell_type": "code",
      "metadata": {
        "title": "Weather stations"
      },
      "source": [
        "# Create a map object centered around the first station's location\n",
        "center = [stations['Latitude'][0], stations['Longitude'][0]]\n",
        "m = Map(center=center, zoom=9)\n",
        "\n",
        "# Add markers for each station\n",
        "for index, row in stations.iterrows():\n",
        "    marker = Marker(location=[row['Latitude'], row['Longitude']])\n",
        "    \n",
        "    # Create an HTML widget to display station information\n",
        "    station_info = HTML()\n",
        "    station_info.value = f\"<b>{row['Station']}</b>\"\n",
        "    \n",
        "    # Create a Popup and set the HTML widget as its child\n",
        "    popup = Popup(location=[row['Latitude'], row['Longitude']], child=station_info)\n",
        "    marker.popup = popup\n",
        "    \n",
        "    m.add_layer(marker)\n",
        "\n",
        "# Display the map\n",
        "m"
      ],
      "execution_count": null,
      "outputs": []
    },
    {
      "cell_type": "markdown",
      "metadata": {},
      "source": [
        "## Row {height=\"60%\"}"
      ]
    },
    {
      "cell_type": "code",
      "metadata": {
        "title": "Data"
      },
      "source": [
        "# Selecting all columns except 'name'\n",
        "meribel = meribel.drop(columns=['name'])\n",
        "\n",
        "# Displaying the DataFrame as an interactive table with pagination using itables\n",
        "itables.options.classes = [\"display\", \"table\", \"table-bordered\", \"table-striped\"]\n",
        "itables.show(meribel)"
      ],
      "execution_count": null,
      "outputs": []
    }
  ],
  "metadata": {
    "kernelspec": {
      "name": "python3",
      "language": "python",
      "display_name": "Python 3 (ipykernel)"
    }
  },
  "nbformat": 4,
  "nbformat_minor": 4
}